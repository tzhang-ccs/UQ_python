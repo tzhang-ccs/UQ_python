{
 "cells": [
  {
   "cell_type": "code",
   "execution_count": 11,
   "id": "26d9aef6-3955-4833-bb07-56f48f00d891",
   "metadata": {},
   "outputs": [],
   "source": [
    "from inception import InceptionV3\n",
    "import torch\n",
    "import torchvision\n",
    "import torchvision.transforms as transforms\n",
    "import matplotlib.pyplot as plt\n",
    "import sys"
   ]
  },
  {
   "cell_type": "code",
   "execution_count": 2,
   "id": "d11a28eb-fe2c-424b-9574-d2cd87615351",
   "metadata": {},
   "outputs": [],
   "source": [
    "from cycler import cycler\n",
    "my_cycler = (cycler(color=['#94c8d8','#FE9A84','#296540','#E63F39','#C3AAD1',\n",
    "              '#D5AC5A','#F4B6C3','#B4BCCA','#DBD468','#B1D3E1','#8b1821']))\n",
    "\n",
    "fh = 15\n",
    "plt.rcParams['figure.figsize'] = (18,12)\n",
    "plt.rcParams['axes.prop_cycle'] = my_cycler\n",
    "plt.rcParams['lines.linewidth'] = 3\n",
    "plt.rcParams['lines.markersize'] = 9#12\n",
    "plt.rcParams['legend.fontsize'] = 15\n",
    "plt.rcParams['axes.labelsize'] = fh\n",
    "plt.rcParams['xtick.labelsize'] = fh\n",
    "plt.rcParams['ytick.labelsize'] = fh\n",
    "plt.rcParams['axes.titlesize'] = fh\n",
    "plt.rcParams['figure.titlesize'] = fh"
   ]
  },
  {
   "cell_type": "code",
   "execution_count": 3,
   "id": "721cdb82-f40b-40e9-8b30-40e6a53fa430",
   "metadata": {},
   "outputs": [
    {
     "name": "stdout",
     "output_type": "stream",
     "text": [
      "Files already downloaded and verified\n",
      "Files already downloaded and verified\n",
      "(50000, 32, 32, 3)\n",
      "50000\n"
     ]
    }
   ],
   "source": [
    "transform = transforms.Compose(\n",
    "    [transforms.ToTensor(),\n",
    "     transforms.Normalize((0.5, 0.5, 0.5), (0.5, 0.5, 0.5))])\n",
    "\n",
    "batch_size = 4\n",
    "\n",
    "trainset = torchvision.datasets.CIFAR10(root='./data', train=True, download=True, \n",
    "                                        transform=transform)\n",
    "trainloader = torch.utils.data.DataLoader(trainset, batch_size=batch_size,\n",
    "                                          shuffle=True, num_workers=2)\n",
    "\n",
    "testset = torchvision.datasets.CIFAR10(root='./data', train=False,\n",
    "                                       download=True, transform=transform)\n",
    "testloader = torch.utils.data.DataLoader(testset, batch_size=batch_size,\n",
    "                                         shuffle=False, num_workers=2)\n",
    "\n",
    "classes = ('plane', 'car', 'bird', 'cat',\n",
    "           'deer', 'dog', 'frog', 'horse', 'ship', 'truck')\n",
    "\n",
    "print(trainset.data.shape)\n",
    "print(len(trainset.targets))"
   ]
  },
  {
   "cell_type": "code",
   "execution_count": 4,
   "id": "eb980aa2-ed2f-410d-9d3d-b1491824fd20",
   "metadata": {},
   "outputs": [
    {
     "data": {
      "text/plain": [
       "<matplotlib.image.AxesImage at 0x7faa4a6fb150>"
      ]
     },
     "execution_count": 4,
     "metadata": {},
     "output_type": "execute_result"
    },
    {
     "data": {
      "image/png": "[encoded data removed]",
      "text/plain": [
       "<Figure size 1800x1200 with 1 Axes>"
      ]
     },
     "metadata": {},
     "output_type": "display_data"
    }
   ],
   "source": [
    "plt.imshow(trainset.data[2,:,:,:])"
   ]
  },
  {
   "cell_type": "code",
   "execution_count": 5,
   "id": "e97b247d-b9f0-4aa4-a964-a8f499de1990",
   "metadata": {},
   "outputs": [],
   "source": [
    "def compute_statistics_of_path(path, model, batch_size, dims, device,\n",
    "                               num_workers=1):\n",
    "    if path.endswith('.npz'):\n",
    "        with np.load(path) as f:\n",
    "            m, s = f['mu'][:], f['sigma'][:]\n",
    "    else:\n",
    "        path = pathlib.Path(path)\n",
    "        files = sorted([file for ext in IMAGE_EXTENSIONS\n",
    "                       for file in path.glob('*.{}'.format(ext))])\n",
    "        m, s = calculate_activation_statistics(files, model, batch_size,\n",
    "                                               dims, device, num_workers)\n",
    "\n",
    "    return m, s"
   ]
  },
  {
   "cell_type": "code",
   "execution_count": 6,
   "id": "8c7eb60f-8aa6-4e7c-ab4f-ddd1b2eb50ce",
   "metadata": {},
   "outputs": [],
   "source": [
    "def calculate_activation_statistics(files, model, batch_size=50, dims=2048,\n",
    "                                    device='cpu', num_workers=1):\n",
    "    \"\"\"Calculation of the statistics used by the FID.\n",
    "    Params:\n",
    "    -- files       : List of image files paths\n",
    "    -- model       : Instance of inception model\n",
    "    -- batch_size  : The images numpy array is split into batches with\n",
    "                     batch size batch_size. A reasonable batch size\n",
    "                     depends on the hardware.\n",
    "    -- dims        : Dimensionality of features returned by Inception\n",
    "    -- device      : Device to run calculations\n",
    "    -- num_workers : Number of parallel dataloader workers\n",
    "\n",
    "    Returns:\n",
    "    -- mu    : The mean over samples of the activations of the pool_3 layer of\n",
    "               the inception model.\n",
    "    -- sigma : The covariance matrix of the activations of the pool_3 layer of\n",
    "               the inception model.\n",
    "    \"\"\"\n",
    "    act = get_activations(files, model, batch_size, dims, device, num_workers)\n",
    "    mu = np.mean(act, axis=0)\n",
    "    sigma = np.cov(act, rowvar=False)\n",
    "    return mu, sigma"
   ]
  },
  {
   "cell_type": "code",
   "execution_count": 7,
   "id": "32373a7b-2f38-46cd-9668-4dc71bce9020",
   "metadata": {},
   "outputs": [],
   "source": [
    "def get_activations(files, model, batch_size=50, dims=2048, device='cpu',\n",
    "                    num_workers=1):\n",
    "    \"\"\"Calculates the activations of the pool_3 layer for all images.\n",
    "\n",
    "    Params:\n",
    "    -- files       : List of image files paths\n",
    "    -- model       : Instance of inception model\n",
    "    -- batch_size  : Batch size of images for the model to process at once.\n",
    "                     Make sure that the number of samples is a multiple of\n",
    "                     the batch size, otherwise some samples are ignored. This\n",
    "                     behavior is retained to match the original FID score\n",
    "                     implementation.\n",
    "    -- dims        : Dimensionality of features returned by Inception\n",
    "    -- device      : Device to run calculations\n",
    "    -- num_workers : Number of parallel dataloader workers\n",
    "\n",
    "    Returns:\n",
    "    -- A numpy array of dimension (num images, dims) that contains the\n",
    "       activations of the given tensor when feeding inception with the\n",
    "       query tensor.\n",
    "    \"\"\"\n",
    "    model.eval()\n",
    "\n",
    "    if batch_size > len(files):\n",
    "        print(('Warning: batch size is bigger than the data size. '\n",
    "               'Setting batch size to data size'))\n",
    "        batch_size = len(files)\n",
    "\n",
    "    dataset = ImagePathDataset(files, transforms=TF.ToTensor())\n",
    "    dataloader = torch.utils.data.DataLoader(dataset,\n",
    "                                             batch_size=batch_size,\n",
    "                                             shuffle=False,\n",
    "                                             drop_last=False,\n",
    "                                             num_workers=num_workers)\n",
    "\n",
    "    pred_arr = np.empty((len(files), dims))\n",
    "\n",
    "    start_idx = 0\n",
    "\n",
    "    for batch in tqdm(dataloader):\n",
    "        batch = batch.to(device)\n",
    "\n",
    "        with torch.no_grad():\n",
    "            pred = model(batch)[0]\n",
    "\n",
    "        # If model output is not scalar, apply global spatial average pooling.\n",
    "        # This happens if you choose a dimensionality not equal 2048.\n",
    "        if pred.size(2) != 1 or pred.size(3) != 1:\n",
    "            pred = adaptive_avg_pool2d(pred, output_size=(1, 1))\n",
    "\n",
    "        pred = pred.squeeze(3).squeeze(2).cpu().numpy()\n",
    "\n",
    "        pred_arr[start_idx:start_idx + pred.shape[0]] = pred\n",
    "\n",
    "        start_idx = start_idx + pred.shape[0]\n",
    "\n",
    "    return pred_arr"
   ]
  },
  {
   "cell_type": "code",
   "execution_count": 8,
   "id": "8da2d647-abb9-4594-b393-ee601791a302",
   "metadata": {},
   "outputs": [],
   "source": [
    "device = torch.device('cuda:0')\n",
    "dims = 2048"
   ]
  },
  {
   "cell_type": "code",
   "execution_count": 9,
   "id": "f20b4739-b9b5-44a4-bb39-ced95e559074",
   "metadata": {},
   "outputs": [],
   "source": [
    "block_idx = InceptionV3.BLOCK_INDEX_BY_DIM[dims]\n",
    "model = InceptionV3([block_idx]).to(device)"
   ]
  },
  {
   "cell_type": "code",
   "execution_count": 20,
   "id": "6f2bbb45-ddd3-418e-9800-089b413c0957",
   "metadata": {},
   "outputs": [
    {
     "name": "stdout",
     "output_type": "stream",
     "text": [
      "torch.Size([4, 3, 32, 32])\n",
      "torch.Size([4, 2048, 1, 1])\n",
      "(1, 8192)\n"
     ]
    },
    {
     "ename": "SystemExit",
     "evalue": "",
     "output_type": "error",
     "traceback": [
      "An exception has occurred, use %tb to see the full traceback.\n",
      "\u001b[0;31mSystemExit\u001b[0m\n"
     ]
    }
   ],
   "source": [
    "model.eval()\n",
    "\n",
    "with torch.no_grad():\n",
    "    for xx,yy in trainloader:\n",
    "        xx = xx.to(device)\n",
    "        print(xx.shape)\n",
    "        out = model(xx)[0]\n",
    "        print(out.shape)\n",
    "        pred = out.cpu().numpy().transpose(0, 2, 3, 1).reshape(1*out.shape[2]*out.shape[3],-1)\n",
    "        print(pred.shape)\n",
    "        \n",
    "        sys.exit()"
   ]
  },
  {
   "cell_type": "code",
   "execution_count": null,
   "id": "bcae25d8-152c-4522-a27e-828e38e0660a",
   "metadata": {},
   "outputs": [],
   "source": []
  }
 ],
 "metadata": {
  "kernelspec": {
   "display_name": "pytorch",
   "language": "python",
   "name": "pytorch"
  },
  "language_info": {
   "codemirror_mode": {
    "name": "ipython",
    "version": 3
   },
   "file_extension": ".py",
   "mimetype": "text/x-python",
   "name": "python",
   "nbconvert_exporter": "python",
   "pygments_lexer": "ipython3",
   "version": "3.11.4"
  }
 },
 "nbformat": 4,
 "nbformat_minor": 5
}
