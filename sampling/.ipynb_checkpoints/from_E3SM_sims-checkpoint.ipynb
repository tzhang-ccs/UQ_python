{
 "cells": [
  {
   "cell_type": "code",
   "execution_count": 8,
   "id": "06fb9647-3419-492b-acb4-4be3034ec825",
   "metadata": {},
   "outputs": [],
   "source": [
    "import pandas as pd\n",
    "import numpy as np\n",
    "import sys\n",
    "import re"
   ]
  },
  {
   "cell_type": "markdown",
   "id": "9e80c5e7-9fd4-4fb4-bcfc-60deb3e454e3",
   "metadata": {},
   "source": [
    "# global config"
   ]
  },
  {
   "cell_type": "code",
   "execution_count": 3,
   "id": "3ca7ca44-af5d-499f-93bd-3a164c327dc1",
   "metadata": {},
   "outputs": [],
   "source": [
    "case_home = '/global/cscratch1/sd/zhangtao/E3SM/'\n",
    "cases = ['20220120.ne30pg2_EC30to60E2r2.ml_BCU.F2010',\n",
    "        '20220120.ne30pg2_EC30to60E2r2.dilute_dcape.F2010']"
   ]
  },
  {
   "cell_type": "markdown",
   "id": "bc50a249-e1d3-4d31-b16d-132a1697baf4",
   "metadata": {},
   "source": [
    "# parameters"
   ]
  },
  {
   "cell_type": "code",
   "execution_count": 59,
   "id": "c0b170a4-5ad9-4770-9e1d-b5fa2601fa7b",
   "metadata": {},
   "outputs": [
    {
     "name": "stdout",
     "output_type": "stream",
     "text": [
      "20220120.ne30pg2_EC30to60E2r2.ml_BCU.F2010\n",
      "20220120.ne30pg2_EC30to60E2r2.dilute_dcape.F2010\n"
     ]
    }
   ],
   "source": [
    "p_names = ['ice_sed_ai', 'clubb_c1','clubb_gamma_coef','zmconv_tau','zmconv_dmpdz']\n",
    "\n",
    "p_dataset = pd.DataFrame()\n",
    "\n",
    "for c in cases:\n",
    "    c_path = case_home+c+\"/run/atm_in\"\n",
    "    print(c)\n",
    "    tmp = {}\n",
    "    for pn in p_names:\n",
    "        val_str = os.popen(f'grep -w {pn} {c_path}').read().split('=')[1]\n",
    "        val = float(val_str)\n",
    "        tmp[pn] = val\n",
    "    tmp = pd.DataFrame(tmp,index=[c])\n",
    "    p_dataset = pd.concat([p_dataset,tmp])\n",
    "    \n"
   ]
  },
  {
   "cell_type": "code",
   "execution_count": 60,
   "id": "17a4473c-94ae-41fa-aa13-5477616633a9",
   "metadata": {},
   "outputs": [
    {
     "data": {
      "text/html": [
       "<div>\n",
       "<style scoped>\n",
       "    .dataframe tbody tr th:only-of-type {\n",
       "        vertical-align: middle;\n",
       "    }\n",
       "\n",
       "    .dataframe tbody tr th {\n",
       "        vertical-align: top;\n",
       "    }\n",
       "\n",
       "    .dataframe thead th {\n",
       "        text-align: right;\n",
       "    }\n",
       "</style>\n",
       "<table border=\"1\" class=\"dataframe\">\n",
       "  <thead>\n",
       "    <tr style=\"text-align: right;\">\n",
       "      <th></th>\n",
       "      <th>ice_sed_ai</th>\n",
       "      <th>clubb_c1</th>\n",
       "      <th>clubb_gamma_coef</th>\n",
       "      <th>zmconv_tau</th>\n",
       "      <th>zmconv_dmpdz</th>\n",
       "    </tr>\n",
       "  </thead>\n",
       "  <tbody>\n",
       "    <tr>\n",
       "      <th>20220120.ne30pg2_EC30to60E2r2.ml_BCU.F2010</th>\n",
       "      <td>500.0</td>\n",
       "      <td>2.4</td>\n",
       "      <td>0.12</td>\n",
       "      <td>3600.0</td>\n",
       "      <td>-0.0007</td>\n",
       "    </tr>\n",
       "    <tr>\n",
       "      <th>20220120.ne30pg2_EC30to60E2r2.dilute_dcape.F2010</th>\n",
       "      <td>500.0</td>\n",
       "      <td>2.4</td>\n",
       "      <td>0.12</td>\n",
       "      <td>3600.0</td>\n",
       "      <td>-0.0007</td>\n",
       "    </tr>\n",
       "  </tbody>\n",
       "</table>\n",
       "</div>"
      ],
      "text/plain": [
       "                                                  ice_sed_ai  clubb_c1  \\\n",
       "20220120.ne30pg2_EC30to60E2r2.ml_BCU.F2010             500.0       2.4   \n",
       "20220120.ne30pg2_EC30to60E2r2.dilute_dcape.F2010       500.0       2.4   \n",
       "\n",
       "                                                  clubb_gamma_coef  \\\n",
       "20220120.ne30pg2_EC30to60E2r2.ml_BCU.F2010                    0.12   \n",
       "20220120.ne30pg2_EC30to60E2r2.dilute_dcape.F2010              0.12   \n",
       "\n",
       "                                                  zmconv_tau  zmconv_dmpdz  \n",
       "20220120.ne30pg2_EC30to60E2r2.ml_BCU.F2010            3600.0       -0.0007  \n",
       "20220120.ne30pg2_EC30to60E2r2.dilute_dcape.F2010      3600.0       -0.0007  "
      ]
     },
     "execution_count": 60,
     "metadata": {},
     "output_type": "execute_result"
    }
   ],
   "source": [
    "p_dataset"
   ]
  },
  {
   "cell_type": "markdown",
   "id": "ff456de4-1153-4943-922f-598d53524f55",
   "metadata": {},
   "source": [
    "# metrics"
   ]
  },
  {
   "cell_type": "code",
   "execution_count": 63,
   "id": "bf518c3b-220c-471e-a72b-765a12514cdc",
   "metadata": {},
   "outputs": [],
   "source": [
    "seasons = ['ANN','DJF','MAM','JJA','SON']\n",
    "seasons = ['ANN']\n",
    "mets = ['LWCF','PRECT','PSL','RELHUM','SWCF','TREFHT','U200','U850','Z500']\n",
    "\n",
    "diag_home = \"/global/cfs/cdirs/e3sm/www/golaz/E3SM/QBO/\"\n",
    "diag_suffix = \"20210813.F2010.ne30pg2_oECv3.chrysalis/e3sm_diags/atm_monthly_180x360_aave/model_vs_obs_0011-0020/viewer/table-data/ANN_metrics_table.csv\"\n",
    "\n"
   ]
  },
  {
   "cell_type": "code",
   "execution_count": 74,
   "id": "16cd9ef1-e427-4ec1-82d3-b4d1baef6cd8",
   "metadata": {},
   "outputs": [],
   "source": [
    "met_dataset = pd.DataFrame()\n",
    "for i in range(1,3):\n",
    "    tmp = {}\n",
    "    diag_path = f'{diag_home}workdir.{i}/{diag_suffix}'\n",
    "    diag_data = pd.read_csv(diag_path)\n",
    "    var_names = diag_data['Variables'].values\n",
    "    dataset = diag_data['RMSE'].values\n",
    "    for vn,data in zip(var_names,dataset):\n",
    "        tmp[vn] = data\n",
    "    tmp = pd.DataFrame(tmp, index=['workdir.'+str(i)])\n",
    "    met_dataset = pd.concat([met_dataset,tmp])"
   ]
  },
  {
   "cell_type": "code",
   "execution_count": 75,
   "id": "be04d119-e84c-4128-a069-104908840ee4",
   "metadata": {},
   "outputs": [
    {
     "data": {
      "text/html": [
       "<div>\n",
       "<style scoped>\n",
       "    .dataframe tbody tr th:only-of-type {\n",
       "        vertical-align: middle;\n",
       "    }\n",
       "\n",
       "    .dataframe tbody tr th {\n",
       "        vertical-align: top;\n",
       "    }\n",
       "\n",
       "    .dataframe thead th {\n",
       "        text-align: right;\n",
       "    }\n",
       "</style>\n",
       "<table border=\"1\" class=\"dataframe\">\n",
       "  <thead>\n",
       "    <tr style=\"text-align: right;\">\n",
       "      <th></th>\n",
       "      <th>PRECT global GPCP_v2.2</th>\n",
       "      <th>PRECT global GPCP_v2.3</th>\n",
       "      <th>TREFHT land_60S90N CRU</th>\n",
       "      <th>RESTOM global ceres_ebaf_toa_v4.1</th>\n",
       "      <th>FLUT global ceres_ebaf_toa_v4.1</th>\n",
       "      <th>FSNTOA global ceres_ebaf_toa_v4.1</th>\n",
       "      <th>FLNS global ceres_ebaf_surface_v4.1</th>\n",
       "      <th>FSNS global ceres_ebaf_surface_v4.1</th>\n",
       "      <th>LHFLX global OAFlux</th>\n",
       "      <th>SHFLX global OAFlux</th>\n",
       "      <th>...</th>\n",
       "      <th>FLNS global MERRA2</th>\n",
       "      <th>NET_FLUX_SRF global MERRA2</th>\n",
       "      <th>PRECT global MERRA2</th>\n",
       "      <th>TAUXY ocean MERRA2</th>\n",
       "      <th>TREFHT global ERA5</th>\n",
       "      <th>TREFHT land ERA5</th>\n",
       "      <th>TREFHT global MERRA2</th>\n",
       "      <th>TREFHT land MERRA2</th>\n",
       "      <th>PminusE global GPCP_OAFLux</th>\n",
       "      <th>PminusE global COREv2_Flux</th>\n",
       "    </tr>\n",
       "  </thead>\n",
       "  <tbody>\n",
       "    <tr>\n",
       "      <th>workdir.1</th>\n",
       "      <td>1.711</td>\n",
       "      <td>1.703</td>\n",
       "      <td>2.186</td>\n",
       "      <td>7.057</td>\n",
       "      <td>11.766</td>\n",
       "      <td>13.770</td>\n",
       "      <td>10.650</td>\n",
       "      <td>15.665</td>\n",
       "      <td>31.155</td>\n",
       "      <td>7.700</td>\n",
       "      <td>...</td>\n",
       "      <td>10.752</td>\n",
       "      <td>21.727</td>\n",
       "      <td>1.508</td>\n",
       "      <td>0.02</td>\n",
       "      <td>1.357</td>\n",
       "      <td>2.177</td>\n",
       "      <td>1.227</td>\n",
       "      <td>2.023</td>\n",
       "      <td>1.277</td>\n",
       "      <td>1.555</td>\n",
       "    </tr>\n",
       "    <tr>\n",
       "      <th>workdir.2</th>\n",
       "      <td>1.817</td>\n",
       "      <td>1.809</td>\n",
       "      <td>2.079</td>\n",
       "      <td>9.113</td>\n",
       "      <td>13.726</td>\n",
       "      <td>17.554</td>\n",
       "      <td>12.879</td>\n",
       "      <td>19.838</td>\n",
       "      <td>31.420</td>\n",
       "      <td>7.803</td>\n",
       "      <td>...</td>\n",
       "      <td>10.150</td>\n",
       "      <td>21.151</td>\n",
       "      <td>1.578</td>\n",
       "      <td>0.02</td>\n",
       "      <td>1.348</td>\n",
       "      <td>2.159</td>\n",
       "      <td>1.191</td>\n",
       "      <td>1.944</td>\n",
       "      <td>1.315</td>\n",
       "      <td>1.593</td>\n",
       "    </tr>\n",
       "  </tbody>\n",
       "</table>\n",
       "<p>2 rows × 30 columns</p>\n",
       "</div>"
      ],
      "text/plain": [
       "           PRECT global GPCP_v2.2  PRECT global GPCP_v2.3  \\\n",
       "workdir.1                   1.711                   1.703   \n",
       "workdir.2                   1.817                   1.809   \n",
       "\n",
       "           TREFHT land_60S90N CRU  RESTOM global ceres_ebaf_toa_v4.1  \\\n",
       "workdir.1                   2.186                              7.057   \n",
       "workdir.2                   2.079                              9.113   \n",
       "\n",
       "           FLUT global ceres_ebaf_toa_v4.1  FSNTOA global ceres_ebaf_toa_v4.1  \\\n",
       "workdir.1                           11.766                             13.770   \n",
       "workdir.2                           13.726                             17.554   \n",
       "\n",
       "           FLNS global ceres_ebaf_surface_v4.1  \\\n",
       "workdir.1                               10.650   \n",
       "workdir.2                               12.879   \n",
       "\n",
       "           FSNS global ceres_ebaf_surface_v4.1  LHFLX global OAFlux  \\\n",
       "workdir.1                               15.665               31.155   \n",
       "workdir.2                               19.838               31.420   \n",
       "\n",
       "           SHFLX global OAFlux  ...  FLNS global MERRA2  \\\n",
       "workdir.1                7.700  ...              10.752   \n",
       "workdir.2                7.803  ...              10.150   \n",
       "\n",
       "           NET_FLUX_SRF global MERRA2  PRECT global MERRA2  \\\n",
       "workdir.1                      21.727                1.508   \n",
       "workdir.2                      21.151                1.578   \n",
       "\n",
       "           TAUXY ocean MERRA2  TREFHT global ERA5  TREFHT land ERA5  \\\n",
       "workdir.1                0.02               1.357             2.177   \n",
       "workdir.2                0.02               1.348             2.159   \n",
       "\n",
       "           TREFHT global MERRA2  TREFHT land MERRA2  \\\n",
       "workdir.1                 1.227               2.023   \n",
       "workdir.2                 1.191               1.944   \n",
       "\n",
       "           PminusE global GPCP_OAFLux  PminusE global COREv2_Flux  \n",
       "workdir.1                       1.277                       1.555  \n",
       "workdir.2                       1.315                       1.593  \n",
       "\n",
       "[2 rows x 30 columns]"
      ]
     },
     "execution_count": 75,
     "metadata": {},
     "output_type": "execute_result"
    }
   ],
   "source": [
    "met_dataset"
   ]
  },
  {
   "cell_type": "markdown",
   "id": "183eb340-538c-4c15-a9c0-27976cdb7b12",
   "metadata": {},
   "source": [
    "# surrogate"
   ]
  },
  {
   "cell_type": "code",
   "execution_count": null,
   "id": "620b2f1a-030b-48e9-99f4-dc2ef64bee17",
   "metadata": {},
   "outputs": [],
   "source": []
  }
 ],
 "metadata": {
  "kernelspec": {
   "display_name": "dushu",
   "language": "python",
   "name": "dushu"
  },
  "language_info": {
   "codemirror_mode": {
    "name": "ipython",
    "version": 3
   },
   "file_extension": ".py",
   "mimetype": "text/x-python",
   "name": "python",
   "nbconvert_exporter": "python",
   "pygments_lexer": "ipython3",
   "version": "3.11.0"
  }
 },
 "nbformat": 4,
 "nbformat_minor": 5
}
