{
 "cells": [
  {
   "cell_type": "code",
   "execution_count": 65,
   "metadata": {},
   "outputs": [],
   "source": [
    "import numpy as np\n",
    "import matplotlib.pyplot as plt\n",
    "import os\n",
    "import time\n",
    "from loguru import logger\n",
    "from scipy.optimize import minimize\n",
    "from netCDF4 import Dataset"
   ]
  },
  {
   "cell_type": "code",
   "execution_count": 2,
   "metadata": {},
   "outputs": [],
   "source": [
    "base_path=\"/home/tzhang/wrf_solar/wsolar412_bnl/runwrf_tune\"\n",
    "archive_path = \"/S2/gscr2/tzhang/big_data/UQ/tune/\"\n",
    "para_names = ['vdis','beta_con']\n",
    "os.chdir(base_path)"
   ]
  },
  {
   "cell_type": "code",
   "execution_count": 6,
   "metadata": {},
   "outputs": [],
   "source": [
    "def delete_all_case():\n",
    "    os.system(\"rm -rf \"+archive_path+\"/Iter*\")"
   ]
  },
  {
   "cell_type": "markdown",
   "metadata": {},
   "source": [
    "# check bounds"
   ]
  },
  {
   "cell_type": "code",
   "execution_count": 58,
   "metadata": {},
   "outputs": [
    {
     "name": "stdout",
     "output_type": "stream",
     "text": [
      "{'vdis': 1.4, 'beta_con': 1.02e+20}\n"
     ]
    }
   ],
   "source": [
    "para_bounds = {\n",
    "    'vdis':[0.01,1.4],\n",
    "    'beta_con':[1.02E20, 1.67e24]\n",
    "}\n",
    "\n",
    "def check_bounds(x):\n",
    "    nx = len(x)\n",
    "    nb = len(para_bounds)\n",
    "    \n",
    "    if nx != nb:\n",
    "        raise SystemExit('shape of input parameters should be consistent with the bounds!')\n",
    "    \n",
    "    for key in x:\n",
    "        x[key] = x[key] if x[key] > para_bounds[key][0] else para_bounds[key][0]\n",
    "        x[key] = x[key] if x[key] < para_bounds[key][1] else para_bounds[key][1]\n",
    "\n",
    "    return x\n",
    "\n",
    "x = {'vdis':1.5, 'beta_con':0.2}\n",
    "aa = check_bounds(x)\n",
    "\n",
    "print(aa)"
   ]
  },
  {
   "cell_type": "markdown",
   "metadata": {},
   "source": [
    "# calc metrics"
   ]
  },
  {
   "cell_type": "code",
   "execution_count": 72,
   "metadata": {},
   "outputs": [
    {
     "data": {
      "text/plain": [
       "1.0"
      ]
     },
     "execution_count": 72,
     "metadata": {},
     "output_type": "execute_result"
    }
   ],
   "source": [
    "def calc_metrics(path_mod):\n",
    "    var_list = ['dni','dhi'] # dni: direct normal irradiance DHI: diffuse horizontal irradiance\n",
    "    varn_obs = ['obs_swddni', 'obs_swddif']\n",
    "    varn_mod = ['SWDDNI','SWDDIF']\n",
    "    \n",
    "    path_base = \"/ss/hsdc/home/tzhang/wrf_solar/\"\n",
    "    path_obs = path_base+\"sgpradflux10long_area_mean.c1.20160619_1200UTC.nc\"\n",
    "    path_def = \"/S2/gscr2/tzhang/big_data/UQ/tune/runwrf_def/wrfout_d02_2016-06-19_06:00:00\"\n",
    "    \n",
    "    fid_obs = Dataset(path_obs)\n",
    "    fid_def = Dataset(path_def)\n",
    "    fid_mod = Dataset(path_mod)\n",
    "    \n",
    "    Chi = 0\n",
    "    for i, var in enumerate(var_list):\n",
    "        #print(var)\n",
    "        \n",
    "        var_obs = fid_obs.variables[varn_obs[i]][:]\n",
    "        var_mod = fid_mod.variables[varn_mod[i]][36:]\n",
    "        var_def = fid_def.variables[varn_mod[i]][36:]\n",
    "        \n",
    "        var_mod_avg = np.mean(var_mod, axis=(1,2))\n",
    "        var_def_avg = np.mean(var_def, axis=(1,2))\n",
    "        \n",
    "        #print(var_obs.shape)\n",
    "        #print(var_mod_avg.shape)\n",
    "        #print(var_def_avg.shape)\n",
    "        \n",
    "        theta_mod = 0\n",
    "        for j in range(var_obs.shape[0]):\n",
    "            theta_mod += (var_obs[j] - var_mod_avg[j]) ** 2\n",
    "            \n",
    "        theta_def = 0\n",
    "        for j in range(var_obs.shape[0]):\n",
    "            theta_def += (var_obs[j] - var_def_avg[j]) ** 2\n",
    "            \n",
    "        Chi += (theta_mod / theta_def)\n",
    "        \n",
    "    Chi /= len(var_list)\n",
    "    \n",
    "    return Chi\n",
    "            \n",
    "        \n",
    "        \n",
    "#calc_metrics(\"/S2/gscr2/tzhang/big_data/UQ/sampling/case0/wrfout_d02_2016-06-19_06:00:00\")\n",
    "calc_metrics(\"/S2/gscr2/tzhang/big_data/UQ/tune/runwrf_def/wrfout_d02_2016-06-19_06:00:00\")"
   ]
  },
  {
   "cell_type": "markdown",
   "metadata": {},
   "source": [
    "# run case"
   ]
  },
  {
   "cell_type": "code",
   "execution_count": 83,
   "metadata": {},
   "outputs": [
    {
     "name": "stderr",
     "output_type": "stream",
     "text": [
      "2021-02-20 02:29:46.924 | INFO     | __main__:run_case:20 - Iter0: modifiy namelist\n",
      "2021-02-20 02:29:47.014 | INFO     | __main__:run_case:26 - Iter0: run model\n",
      "2021-02-20 02:30:17.048 | INFO     | __main__:run_case:34 - Iter0: archive case\n",
      "2021-02-20 02:30:43.684 | INFO     | __main__:run_case:39 - case0: success!!!\n"
     ]
    }
   ],
   "source": [
    "ite = -1\n",
    "\n",
    "def run_case(x):\n",
    "    global ite\n",
    "    ite = ite + 1 \n",
    "    \n",
    "    # check parameter bound\n",
    "    x = check_bounds(x)\n",
    "    \n",
    "    # modify namelist\n",
    "    logger.info(\"Iter\"+str(ite)+\": modifiy namelist\")\n",
    "    for key in x:\n",
    "        replace_str = \"sed -i '/^ \"+key+\"/c\\ \"+key+\"=\"+str(x[key])+\"' namelist.input\"\n",
    "        os.system(replace_str)\n",
    "\n",
    "    # run model\n",
    "    logger.info(\"Iter\"+str(ite)+\": run model\")\n",
    "    time.sleep(30)\n",
    "    #jid = os.popen(\"qsub runwrf.sh\").read().split('.')[0]\n",
    "    #print(jid)\n",
    "    #while os.popen(\"qstat\").read().find(jid) != -1:\n",
    "    #    time.sleep(300)\n",
    "\n",
    "    #archive case\n",
    "    logger.info(\"Iter\"+str(ite)+\": archive case\")\n",
    "    os.system(\"mkdir -p \"+archive_path+\"/Iter\"+str(ite))\n",
    "    os.system(\"cp namelist.input \"+archive_path+\"/Iter\"+str(ite))\n",
    "    os.system(\"cp wrfout_* \"+archive_path+\"/Iter\"+str(ite))\n",
    "    \n",
    "    logger.info(\"case\"+str(ite)+\": success!!!\")\n",
    "    #logger.remove()\n",
    "    \n",
    "def run_case_wrapper(x):\n",
    "    paras = {}\n",
    "    \n",
    "    for i,key in enumerate(para_names):\n",
    "        paras[key] = x[i]\n",
    "        \n",
    "    mcpi = run_case(paras)\n",
    "    return mcpi"
   ]
  },
  {
   "cell_type": "code",
   "execution_count": 80,
   "metadata": {},
   "outputs": [
    {
     "name": "stdout",
     "output_type": "stream",
     "text": [
      "Optimization terminated successfully.\n",
      "         Current function value: 0.000000\n",
      "         Iterations: 150\n",
      "         Function evaluations: 270\n"
     ]
    }
   ],
   "source": [
    "x0 = np.array([1.311735, 1.1281180989999998e+24])\n",
    "\n",
    "initial_simplex = np.array([\n",
    "    [1.311735, 1.1281180989999998e+24],\n",
    "    [1.3103449999999999, 4.2008134699999996e+23],\n",
    "    [0.869715, 1.4955787099999998e+23]\n",
    "])\n",
    "\n",
    "res = minimize(run_case_wrapper, x0, method='nelder-mead',\n",
    "               options={'xatol': 1e-8, 'disp': True, 'return_all':True})"
   ]
  },
  {
   "cell_type": "code",
   "execution_count": 86,
   "metadata": {},
   "outputs": [
    {
     "name": "stdout",
     "output_type": "stream",
     "text": [
      "Optimization terminated successfully.\n",
      "         Current function value: 0.000000\n",
      "         Iterations: 117\n",
      "         Function evaluations: 217\n"
     ]
    }
   ],
   "source": [
    "def rosen(x):\n",
    "    \"\"\"The Rosenbrock function\"\"\"\n",
    "    return sum(100.0*(x[1:]-x[:-1]**2.0)**2.0 + (1-x[:-1])**2.0)\n",
    "\n",
    "x0 = np.array([1.3, 0.7, 0.8])\n",
    "\n",
    "initial_simplex = np.array([\n",
    "    [1.1, 1.7, 2.8],\n",
    "    [0.1, 1.17, 1.8],\n",
    "    [1.01, 2.7, 4.8],\n",
    "    [4.01, 4.7, 3.8]\n",
    "])\n",
    "\n",
    "res = minimize(rosen, x0, method='nelder-mead',\n",
    "               options={'xatol': 1e-8, 'disp': True, 'return_all':True, 'initial_simplex':initial_simplex})"
   ]
  },
  {
   "cell_type": "code",
   "execution_count": 87,
   "metadata": {},
   "outputs": [
    {
     "name": "stdout",
     "output_type": "stream",
     "text": [
      "       allvecs: [array([1.1, 1.7, 2.8]), array([1.1, 1.7, 2.8]), array([1.1, 1.7, 2.8]), array([1.1, 1.7, 2.8]), array([0.86666667, 0.39703704, 0.39259259]), array([0.86666667, 0.39703704, 0.39259259]), array([0.92712963, 0.97184671, 0.81954733]), array([0.92712963, 0.97184671, 0.81954733]), array([0.92712963, 0.97184671, 0.81954733]), array([0.92712963, 0.97184671, 0.81954733]), array([1.00378472, 1.1406848 , 1.35054012]), array([1.00378472, 1.1406848 , 1.35054012]), array([0.90942033, 0.82905312, 0.79203747]), array([0.92158452, 0.94895661, 0.89419117]), array([1.05494652, 1.13733474, 1.26058504]), array([1.05494652, 1.13733474, 1.26058504]), array([1.05494652, 1.13733474, 1.26058504]), array([1.05494652, 1.13733474, 1.26058504]), array([0.95564111, 0.92926116, 0.89157888]), array([0.95289434, 0.90373668, 0.81610189]), array([0.95289434, 0.90373668, 0.81610189]), array([0.95289434, 0.90373668, 0.81610189]), array([0.95289434, 0.90373668, 0.81610189]), array([0.95289434, 0.90373668, 0.81610189]), array([1.00629263, 1.00612273, 1.00592645]), array([0.999056  , 0.99361535, 0.99298999]), array([1.00160715, 1.00708197, 1.016323  ]), array([1.00160715, 1.00708197, 1.016323  ]), array([0.99952458, 0.99534509, 0.98961386]), array([0.99952458, 0.99534509, 0.98961386]), array([0.98678676, 0.97301913, 0.94817854]), array([0.99137115, 0.98424405, 0.96803348]), array([0.99708399, 0.99564237, 0.99246581]), array([0.99563594, 0.98982347, 0.97958657]), array([0.99865216, 0.99834538, 0.99595366]), array([1.00287691, 1.00496342, 1.01063722]), array([0.9980695 , 0.99667656, 0.99392915]), array([0.99775107, 0.99490929, 0.98987996]), array([0.99910899, 0.99859757, 0.99705122]), array([0.99910899, 0.99859757, 0.99705122]), array([0.99910899, 0.99859757, 0.99705122]), array([0.99910899, 0.99859757, 0.99705122]), array([0.9996823 , 0.99924324, 0.99876199]), array([0.99964675, 0.99911552, 0.99806325]), array([0.99964675, 0.99911552, 0.99806325]), array([1.00029221, 1.00040204, 1.00084908]), array([1.00011906, 1.0003149 , 1.00057446]), array([1.00011906, 1.0003149 , 1.00057446]), array([1.00011906, 1.0003149 , 1.00057446]), array([1.00011906, 1.0003149 , 1.00057446]), array([0.99985628, 0.99966371, 0.9993518 ]), array([0.99985628, 0.99966371, 0.9993518 ]), array([1.00011943, 1.00019127, 1.00037047]), array([1.00003258, 1.00008006, 1.00012647]), array([1.00003258, 1.00008006, 1.00012647]), array([0.99997729, 0.99992308, 0.99985638]), array([0.99997729, 0.99992308, 0.99985638]), array([1.00007018, 1.00013768, 1.00029159]), array([1.00002128, 1.0000493 , 1.00008936]), array([1.00002128, 1.0000493 , 1.00008936]), array([1.00002128, 1.0000493 , 1.00008936]), array([1.00002128, 1.0000493 , 1.00008936]), array([0.99999705, 0.99999909, 1.00000279]), array([0.99999667, 0.99998949, 0.99998096]), array([0.99999667, 0.99998949, 0.99998096]), array([0.99999667, 0.99998949, 0.99998096]), array([0.99998833, 0.99997951, 0.99995704]), array([0.99999698, 0.99999699, 0.99999557]), array([0.99999986, 1.00000217, 1.00000246]), array([0.99999586, 0.99999119, 0.99998299]), array([0.99999586, 0.99999119, 0.99998299]), array([0.99999586, 0.99999119, 0.99998299]), array([1.00000116, 1.00000329, 1.00000593]), array([1.00000116, 1.00000329, 1.00000593]), array([1.00000247, 1.0000043 , 1.00000825]), array([0.99999915, 0.9999981 , 0.99999649]), array([0.99999915, 0.9999981 , 0.99999649]), array([0.99999915, 0.9999981 , 0.99999649]), array([0.99999915, 0.9999981 , 0.99999649]), array([0.99999915, 0.9999981 , 0.99999649]), array([1.0000006 , 1.00000127, 1.00000237]), array([1.0000006 , 1.00000127, 1.00000237]), array([1.0000006 , 1.00000127, 1.00000237]), array([0.99999946, 0.99999881, 0.9999977 ]), array([0.99999946, 0.99999881, 0.9999977 ]), array([1.00000082, 1.00000168, 1.00000338]), array([1.00000027, 1.00000059, 1.00000113]), array([1.00000027, 1.00000059, 1.00000113]), array([0.99999989, 0.99999974, 0.99999954]), array([0.99999989, 0.99999974, 0.99999954]), array([0.99999989, 0.99999974, 0.99999954]), array([0.99999983, 0.99999965, 0.99999931]), array([1.00000009, 1.00000018, 1.00000034]), array([1.00000009, 1.00000018, 1.00000034]), array([1.00000009, 1.00000018, 1.00000034]), array([0.99999991, 0.99999981, 0.99999962]), array([0.99999991, 0.99999981, 0.99999962]), array([1.00000003, 1.00000007, 1.00000014]), array([1.00000003, 1.00000007, 1.00000013]), array([1.00000003, 1.00000007, 1.00000013]), array([0.99999996, 0.99999992, 0.99999985]), array([0.99999998, 0.99999995, 0.99999991]), array([0.99999999, 0.99999998, 0.99999997]), array([1.        , 1.00000001, 1.00000002]), array([1.        , 1.00000001, 1.00000002]), array([1.        , 1.00000001, 1.00000002]), array([1.        , 1.00000001, 1.00000002]), array([1.        , 1.00000001, 1.00000002]), array([0.99999999, 0.99999998, 0.99999997]), array([0.99999999, 0.99999998, 0.99999997]), array([1.        , 1.00000001, 1.00000001]), array([1.        , 1.00000001, 1.00000001]), array([1., 1., 1.]), array([1., 1., 1.]), array([1., 1., 1.]), array([1., 1., 1.]), array([1., 1., 1.])]\n",
      " final_simplex: (array([[1.        , 1.        , 1.        ],\n",
      "       [1.        , 1.        , 1.        ],\n",
      "       [1.        , 0.99999999, 0.99999999],\n",
      "       [1.        , 1.        , 1.        ]]), array([3.20116511e-17, 4.84255487e-17, 7.24653710e-17, 9.99242474e-17]))\n",
      "           fun: 3.201165110935483e-17\n",
      "       message: 'Optimization terminated successfully.'\n",
      "          nfev: 217\n",
      "           nit: 117\n",
      "        status: 0\n",
      "       success: True\n",
      "             x: array([1., 1., 1.])\n"
     ]
    }
   ],
   "source": [
    "print(res)"
   ]
  },
  {
   "cell_type": "code",
   "execution_count": null,
   "metadata": {},
   "outputs": [],
   "source": []
  }
 ],
 "metadata": {
  "kernelspec": {
   "display_name": "tune",
   "language": "python",
   "name": "tune"
  },
  "language_info": {
   "codemirror_mode": {
    "name": "ipython",
    "version": 3
   },
   "file_extension": ".py",
   "mimetype": "text/x-python",
   "name": "python",
   "nbconvert_exporter": "python",
   "pygments_lexer": "ipython3",
   "version": "3.9.7"
  },
  "toc-autonumbering": true
 },
 "nbformat": 4,
 "nbformat_minor": 4
}
