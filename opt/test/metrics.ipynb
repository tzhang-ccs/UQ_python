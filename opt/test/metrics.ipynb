{
 "cells": [
  {
   "cell_type": "code",
   "execution_count": 14,
   "metadata": {},
   "outputs": [],
   "source": [
    "import xarray as xr\n",
    "import numpy as np\n",
    "from sklearn.metrics import mean_squared_error,mean_absolute_error\n",
    "from netCDF4 import Dataset\n",
    "import os\n",
    "import pandas as pd"
   ]
  },
  {
   "cell_type": "code",
   "execution_count": 9,
   "metadata": {},
   "outputs": [],
   "source": [
    "def chi_metrics(path_mod):\n",
    "\n",
    "    # define path and load data\n",
    "    var_list = ['dir','dif'] # dni: direct normal irradiance DHI: diffuse horizontal irradiance\n",
    "    varn_obs = ['obs_swddir', 'obs_swddif']\n",
    "    varn_mod = ['SWDDIR','SWDDIF']\n",
    "\n",
    "    path_base = \"/ss/hsdc/home/tzhang/wrf_solar/\"\n",
    "    path_obs = path_base+\"sgpradflux10long_area_mean.c1.20160619_1200UTC.nc\"\n",
    "    path_def = \"/S2/gscr2/tzhang/big_data/UQ/tune/runwrf_def/wrfout_d02_2016-06-19_06:00:00\"\n",
    "\n",
    "    fid_obs = Dataset(path_obs)\n",
    "    fid_def = Dataset(path_def)\n",
    "    fid_mod = Dataset(path_mod)\n",
    "\n",
    "    data_obs = {}\n",
    "    data_def = {}\n",
    "    data_mod = {}\n",
    "\n",
    "    for i,varn in enumerate(var_list):\n",
    "        data_obs[varn] = fid_obs.variables[varn_obs[i]][:]\n",
    "        data_mod[varn] = np.mean(fid_mod.variables[varn_mod[i]][36:],axis=(1,2))\n",
    "        data_def[varn] = np.mean(fid_def.variables[varn_mod[i]][36:],axis=(1,2))\n",
    "\n",
    "    data_obs['tot'] = data_obs['dir'] + data_obs['dif']\n",
    "    data_mod['tot'] = data_mod['dir'] + data_mod['dif']\n",
    "    data_def['tot'] = data_def['dir'] + data_def['dif']\n",
    "\n",
    "\n",
    "    # compute metrics\n",
    "    metrics_list = ['tot','dir']\n",
    "    #metrics_list = ['dif','dir']\n",
    "\n",
    "    \n",
    "    # old style\n",
    "    Chi = 0\n",
    "    for var in metrics_list:\n",
    "        theta_mod = 0\n",
    "        for j in range(data_obs[var].shape[0]):\n",
    "        #theta_mod = mean_absolute_error(data_obs[var], data_mod[var])\n",
    "            theta_mod += (data_obs[var][j] - data_mod[var][j]) ** 2\n",
    "\n",
    "        theta_def = 0\n",
    "        for j in range(data_obs[var].shape[0]):\n",
    "        #theta_def = mean_absolute_error(data_obs[var], data_def[var])\n",
    "            theta_def += (data_obs[var][j] - data_def[var][j]) ** 2\n",
    "\n",
    "        #print(var, theta_mod / theta_def)\n",
    "        Chi += (theta_mod / theta_def)\n",
    "\n",
    "    Chi /= len(var_list)\n",
    "    \n",
    "\n",
    "    return Chi\n"
   ]
  },
  {
   "cell_type": "code",
   "execution_count": 10,
   "metadata": {},
   "outputs": [],
   "source": [
    "aa = calc_metrics(\"/S2/gscr2/tzhang/big_data/UQ/tune/runwrf_def/wrfout_d02_2016-06-19_06:00:00\")"
   ]
  },
  {
   "cell_type": "code",
   "execution_count": 15,
   "metadata": {},
   "outputs": [],
   "source": [
    "all_cases = os.listdir(\"/S2/gscr2/tzhang/big_data/UQ/tune/\")\n",
    "data = pd.DataFrame(columns=['vdis','beta_con','chi'])"
   ]
  },
  {
   "cell_type": "code",
   "execution_count": 17,
   "metadata": {},
   "outputs": [],
   "source": [
    "for case in all_cases:\n",
    "    fp = open(\"/S2/gscr2/tzhang/big_data/UQ/tune/\"+case+\"/namelist.input\")\n",
    "    for i, line in enumerate(fp):\n",
    "        if i == 85:\n",
    "            vdis = float(line.split('=')[1])\n",
    "        if i == 87:\n",
    "            beta_con = float(line.split('=')[1])\n",
    "    fp.close() \n",
    "        \n",
    "    chi = chi_metrics(\"/S2/gscr2/tzhang/big_data/UQ/tune/\"+case+\"/wrfout_d02_2016-06-19_06:00:00\")\n",
    "    data = data.append({'vdis':vdis,'beta_con':beta_con,'chi':chi},ignore_index=True)"
   ]
  },
  {
   "cell_type": "code",
   "execution_count": null,
   "metadata": {},
   "outputs": [],
   "source": []
  }
 ],
 "metadata": {
  "kernelspec": {
   "display_name": "tune",
   "language": "python",
   "name": "tune"
  },
  "language_info": {
   "codemirror_mode": {
    "name": "ipython",
    "version": 3
   },
   "file_extension": ".py",
   "mimetype": "text/x-python",
   "name": "python",
   "nbconvert_exporter": "python",
   "pygments_lexer": "ipython3",
   "version": "3.9.7"
  }
 },
 "nbformat": 4,
 "nbformat_minor": 4
}
